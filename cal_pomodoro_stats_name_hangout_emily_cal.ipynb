{
 "cells": [
  {
   "cell_type": "markdown",
   "metadata": {},
   "source": [
    "TODO\n",
    "- Normal working hours\n",
    "- Efficiency within those hours (either in meetings or build work)\n",
    "- Split between meetings and build\n",
    "- D3 visualization: https://observablehq.com/@d3/calendar-view"
   ]
  },
  {
   "cell_type": "code",
   "execution_count": null,
   "metadata": {},
   "outputs": [],
   "source": [
    "import requests\n",
    "from ics import Calendar\n",
    "import pandas as pd\n",
    "import seaborn as sns\n",
    "import matplotlib.pyplot as plt\n",
    "import random\n",
    "plt.rcParams['figure.figsize'] = [20, 10]"
   ]
  },
  {
   "cell_type": "code",
   "execution_count": null,
   "metadata": {},
   "outputs": [],
   "source": [
    "url = 'https://calendar.google.com/calendar/ical/4kaefeajbrp4ucss3lunngrcq4%40group.calendar.google.com/public/basic.ics'\n",
    "raw = requests.get(url).text\n",
    "c = Calendar(raw) #.replace('BEGIN:VCALENDAR', 'BEGIN:VCALENDAR\\r\\nPRODID:noah-rocks'))\n",
    "c"
   ]
  },
  {
   "cell_type": "code",
   "execution_count": null,
   "metadata": {},
   "outputs": [],
   "source": [
    "items = []\n",
    "for e in list(c.events):\n",
    "    items.append({\n",
    "        'event_name': e.name,\n",
    "        'begin': str(e.begin),\n",
    "        'end': str(e.end),\n",
    "        'duration_min': (e.duration.total_seconds())/60.0,\n",
    "        'duration_hr': (e.duration.total_seconds())/60.0/60.0\n",
    "    })\n",
    "\n",
    "df = pd.DataFrame(items)\n",
    "df['begin'] = pd.to_datetime(df.begin)\n",
    "df['begin'] = df.begin.apply(lambda x: x.replace(tzinfo=None))\n",
    "df['date'] = df.begin.dt.date\n",
    "df['end'] = pd.to_datetime(df.end)\n",
    "df['end'] = df.begin.apply(lambda x: x.replace(tzinfo=None))\n",
    "df.head()"
   ]
  },
  {
   "cell_type": "code",
   "execution_count": null,
   "metadata": {},
   "outputs": [],
   "source": [
    "df.sort_values(by='date', ascending=False)"
   ]
  },
  {
   "cell_type": "code",
   "execution_count": null,
   "metadata": {},
   "outputs": [],
   "source": [
    "import re\n",
    "\n",
    "def flip_category(s):\n",
    "    return ' '.join(s.split(' ')[-1:] + s.split(' ')[:-1])\n",
    "\n",
    "def sanitize_name(s):\n",
    "    s_lower = s.lower()\n",
    "    if ('forward' in s_lower) & ('build' in s_lower):\n",
    "        return 'Forward: Build'\n",
    "    if ('forward' in s_lower) & ('meeting' in s_lower):\n",
    "        return 'Forward: Meeting'\n",
    "    return s\n",
    "\n",
    "def extract_people_names(s):\n",
    "    split_by_w_list = s.split('w/ ')\n",
    "    \n",
    "    if len(split_by_w_list) < 2:\n",
    "        return \"SOLO\"\n",
    "    \n",
    "    name_and_location = split_by_w_list[-1]\n",
    "    split_by_at_list = name_and_location.split('@')\n",
    "    \n",
    "    return name_and_location.strip() if len(split_by_at_list) < 2 else split_by_at_list[0].strip()\n",
    "\n",
    "def extract_location_with_person(s):\n",
    "    split_by_w_list = s.split('w/ ')\n",
    "    \n",
    "    if len(split_by_w_list) < 2:\n",
    "        return None\n",
    "    \n",
    "    split_by_at_list = split_by_w_list[-1].split('@')\n",
    "    \n",
    "    if len(split_by_at_list) < 2:\n",
    "        return None\n",
    "    \n",
    "    return split_by_at_list[-1].strip()\n",
    "    \n",
    "    \n",
    "    \n",
    "\n",
    "# def extract_names_and_location(s):\n",
    "#     name_search_matches = re.search(r'w\\/\\s(.*)\\s@?', s)\n",
    "#     return name_search_matches.group(0)\n",
    "\n",
    "\n",
    "df['people'] = df['event_name'].apply(extract_people_names)\n",
    "df['location'] = df['event_name'].apply(extract_location_with_person)\n",
    "df['activity'] = df['event_name'].apply(lambda x: x.split('w/ ')[0])\n",
    "df['location_and_activity'] = df.apply(lambda x: '{} @ {}'.format(x['activity'].strip(), x['location'].strip()) if x['location'] is not None else x['activity'].strip(), axis=1)\n",
    "df['date_m'] = df.begin.dt.strftime('%Y-%m')\n",
    "df['date_y'] = df['begin'].dt.year\n",
    "df.head()\n",
    "\n",
    "#extract_names(\"Lunch w/ Mike @ Thanh Tham vietnamese\")"
   ]
  },
  {
   "cell_type": "code",
   "execution_count": null,
   "metadata": {},
   "outputs": [],
   "source": [
    "#df.location_and_activity.value_counts()\n",
    "df.people.value_counts()"
   ]
  },
  {
   "cell_type": "code",
   "execution_count": null,
   "metadata": {},
   "outputs": [],
   "source": [
    "for r in df['event_name'].value_counts().iteritems():\n",
    "    print(r)"
   ]
  },
  {
   "cell_type": "code",
   "execution_count": null,
   "metadata": {
    "scrolled": false
   },
   "outputs": [],
   "source": [
    "idx = 2\n",
    "\n",
    "for p in df.people.value_counts().index[1:]:\n",
    "    dft = df[df['people'] == p].copy()\n",
    "    dft = dft['location_and_activity'].value_counts()\n",
    "    print('ACTIVITIES WITH {}'.format(p))\n",
    "    for r in dft[:10].iteritems():\n",
    "        print('    {} ({}x)'.format(r[0], r[1]))\n",
    "    print('   ')\n"
   ]
  },
  {
   "cell_type": "code",
   "execution_count": null,
   "metadata": {},
   "outputs": [],
   "source": []
  },
  {
   "cell_type": "code",
   "execution_count": null,
   "metadata": {},
   "outputs": [],
   "source": [
    "# df.dtypes\n",
    "top_n = 20\n",
    "\n",
    "top_names = list(df.name_extracted.value_counts()[:top_n].index)\n",
    "# random.shuffle(top_names)\n",
    "top_names.sort()\n",
    "\n",
    "dft = df[\n",
    "    (df['name_extracted'] != 'SOLO') &\\\n",
    "    (df['name_extracted'].isin(top_names))\n",
    "].copy()\n",
    "dft = dft.groupby(['date_y', 'name_extracted'])['name'].agg(['count']).reset_index()\n",
    "\n",
    "# dft is throwaway within a cell\n",
    "sns.barplot(x='date_y', y='count', hue='name_extracted', data=dft, hue_order=top_names);"
   ]
  },
  {
   "cell_type": "code",
   "execution_count": null,
   "metadata": {},
   "outputs": [],
   "source": [
    "import matplotlib.dates as mdates"
   ]
  },
  {
   "cell_type": "code",
   "execution_count": null,
   "metadata": {},
   "outputs": [],
   "source": [
    "def plot_within_range(df_in, start, end=None):\n",
    "    if end is None:\n",
    "        end = '2021-01-01'\n",
    "    df1 = df_in[\n",
    "        (df_in['date'] >= pd.to_datetime(start)) &\\\n",
    "        (df_in['date'] < pd.to_datetime(end))\n",
    "    ].copy()\n",
    "    dft = df1.groupby(['date', 'name'])['duration_hr'].agg(['sum']).reset_index()\n",
    "    dft.head()\n",
    "\n",
    "    my_dates = pd.date_range(dft.date.min(), dft.date.max(), freq='D')\n",
    "    idx = pd.MultiIndex.from_product([my_dates, dft.name.unique()], names=['date', 'name'])\n",
    "    dft = dft.set_index(['date', 'name']).reindex(idx).fillna(0).reset_index()\n",
    "    dft.sort_values(by='date', ascending=False)\n",
    "    dft['date'] = dft['date'].apply(lambda x: x.strftime('%m/%d/%Y'))\n",
    "\n",
    "    dft.pivot(index='date', columns='name', values='sum').plot.bar(stacked=True);\n",
    "    plt.xlabel('');\n",
    "    plt.ylabel('Productive Hours');\n",
    "\n",
    "    ax = plt.gca()\n",
    "    handles, labels = ax.get_legend_handles_labels()\n",
    "    labels, handles = zip(*sorted(zip(labels, handles), key=lambda t: t[0], reverse=True))\n",
    "    ax.legend(handles, labels)\n",
    "    plt.show()\n",
    "    return\n",
    "\n",
    "# For grid view https://observablehq.com/@d3/calendar-view\n",
    "plt.rcParams['figure.figsize'] = [12, 8]\n",
    "plot_within_range(df, '2017-04-17', '2020-05-17')"
   ]
  },
  {
   "cell_type": "code",
   "execution_count": null,
   "metadata": {},
   "outputs": [],
   "source": [
    "plt.rcParams['figure.figsize'] = [10, 20]\n",
    "sns.barplot(y=df.name.value_counts().index, x=df.name.value_counts());"
   ]
  },
  {
   "cell_type": "code",
   "execution_count": null,
   "metadata": {},
   "outputs": [],
   "source": []
  },
  {
   "cell_type": "code",
   "execution_count": null,
   "metadata": {},
   "outputs": [],
   "source": []
  },
  {
   "cell_type": "code",
   "execution_count": null,
   "metadata": {},
   "outputs": [],
   "source": []
  },
  {
   "cell_type": "code",
   "execution_count": null,
   "metadata": {},
   "outputs": [],
   "source": []
  }
 ],
 "metadata": {
  "kernelspec": {
   "display_name": "Python 3",
   "language": "python",
   "name": "python3"
  },
  "language_info": {
   "codemirror_mode": {
    "name": "ipython",
    "version": 3
   },
   "file_extension": ".py",
   "mimetype": "text/x-python",
   "name": "python",
   "nbconvert_exporter": "python",
   "pygments_lexer": "ipython3",
   "version": "3.7.7"
  }
 },
 "nbformat": 4,
 "nbformat_minor": 2
}
