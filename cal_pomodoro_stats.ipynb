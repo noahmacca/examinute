{
 "cells": [
  {
   "cell_type": "markdown",
   "metadata": {},
   "source": [
    "TODO\n",
    "- Normal working hours\n",
    "- Efficiency within those hours (either in meetings or build work)\n",
    "- Split between meetings and build\n",
    "- D3 visualization: https://observablehq.com/@d3/calendar-view"
   ]
  },
  {
   "cell_type": "code",
   "execution_count": null,
   "metadata": {},
   "outputs": [],
   "source": [
    "import requests\n",
    "from ics import Calendar\n",
    "import pandas as pd\n",
    "import seaborn as sns\n",
    "import matplotlib.pyplot as plt\\"
   ]
  },
  {
   "cell_type": "code",
   "execution_count": null,
   "metadata": {},
   "outputs": [],
   "source": [
    "url = 'http://p01-calendars.icloud.com/published/2/R7z0NY0Ja-eATwYdxvL0Cj5_0suPQs9_NokawvmHwpTuh04vObEvNZuL3-mYKubUqej19L4ZXAETnqZqlGuUb0bkBON4r9c7vUIHp7Ba2S0'\n",
    "raw = requests.get(url).text\n",
    "c = Calendar(raw.replace('BEGIN:VCALENDAR', 'BEGIN:VCALENDAR\\r\\nPRODID:noah-rocks'))\n",
    "c"
   ]
  },
  {
   "cell_type": "code",
   "execution_count": null,
   "metadata": {},
   "outputs": [],
   "source": [
    "items = []\n",
    "for e in list(c.events):\n",
    "    items.append({\n",
    "        'name': e.name,\n",
    "        'begin': str(e.begin),\n",
    "        'end': str(e.end),\n",
    "        'duration_min': (e.duration.total_seconds())/60.0,\n",
    "        'duration_hr': (e.duration.total_seconds())/60.0/60.0\n",
    "    })\n",
    "\n",
    "df = pd.DataFrame(items)\n",
    "df['begin'] = pd.to_datetime(df.begin)\n",
    "df['begin'] = df.begin.apply(lambda x: x.replace(tzinfo=None))\n",
    "df['date'] = df.begin.dt.date\n",
    "df['end'] = pd.to_datetime(df.end)\n",
    "df['end'] = df.begin.apply(lambda x: x.replace(tzinfo=None))\n",
    "df.head()"
   ]
  },
  {
   "cell_type": "code",
   "execution_count": null,
   "metadata": {},
   "outputs": [],
   "source": [
    "df.sort_values(by='date', ascending=False)"
   ]
  },
  {
   "cell_type": "code",
   "execution_count": null,
   "metadata": {},
   "outputs": [],
   "source": [
    "def flip_category(s):\n",
    "    return ' '.join(s.split(' ')[-1:] + s.split(' ')[:-1])\n",
    "\n",
    "def sanitize_name(s):\n",
    "    s_lower = s.lower()\n",
    "    if ('forward' in s_lower) & ('build' in s_lower):\n",
    "        return 'Forward: Build'\n",
    "    if ('forward' in s_lower) & ('meeting' in s_lower):\n",
    "        return 'Forward: Meeting'\n",
    "    return s\n",
    "\n",
    "df['name'] = df['name'].apply(flip_category)\n",
    "df['name'] = df['name'].apply(sanitize_name)\n",
    "df.head()"
   ]
  },
  {
   "cell_type": "code",
   "execution_count": null,
   "metadata": {},
   "outputs": [],
   "source": [
    "import matplotlib.dates as mdates"
   ]
  },
  {
   "cell_type": "code",
   "execution_count": null,
   "metadata": {},
   "outputs": [],
   "source": [
    "def plot_within_range(df_in, start, end=None):\n",
    "    if end is None:\n",
    "        end = '2021-01-01'\n",
    "    df1 = df_in[\n",
    "        (df_in['date'] >= pd.to_datetime(start)) &\\\n",
    "        (df_in['date'] < pd.to_datetime(end))\n",
    "    ].copy()\n",
    "    dft = df1.groupby(['date', 'name'])['duration_hr'].agg(['sum']).reset_index()\n",
    "    dft.head()\n",
    "\n",
    "    my_dates = pd.date_range(dft.date.min(), dft.date.max(), freq='D')\n",
    "    idx = pd.MultiIndex.from_product([my_dates, dft.name.unique()], names=['date', 'name'])\n",
    "    dft = dft.set_index(['date', 'name']).reindex(idx).fillna(0).reset_index()\n",
    "    dft.sort_values(by='date', ascending=False)\n",
    "    dft['date'] = dft['date'].apply(lambda x: x.strftime('%m/%d/%Y'))\n",
    "\n",
    "    dft.pivot(index='date', columns='name', values='sum').plot.bar(stacked=True);\n",
    "    plt.xlabel('');\n",
    "    plt.ylabel('Productive Hours');\n",
    "\n",
    "    ax = plt.gca()\n",
    "    handles, labels = ax.get_legend_handles_labels()\n",
    "    labels, handles = zip(*sorted(zip(labels, handles), key=lambda t: t[0], reverse=True))\n",
    "    ax.legend(handles, labels)\n",
    "    plt.show()\n",
    "    return\n",
    "\n",
    "# For grid view https://observablehq.com/@d3/calendar-view\n",
    "plt.rcParams['figure.figsize'] = [12, 8]\n",
    "plot_within_range(df, '2020-04-17')"
   ]
  },
  {
   "cell_type": "code",
   "execution_count": null,
   "metadata": {},
   "outputs": [],
   "source": [
    "plt.rcParams['figure.figsize'] = [10, 20]\n",
    "sns.barplot(y=df.name.value_counts().index, x=df.name.value_counts());"
   ]
  }
 ],
 "metadata": {
  "kernelspec": {
   "display_name": "Python 3",
   "language": "python",
   "name": "python3"
  },
  "language_info": {
   "codemirror_mode": {
    "name": "ipython",
    "version": 3
   },
   "file_extension": ".py",
   "mimetype": "text/x-python",
   "name": "python",
   "nbconvert_exporter": "python",
   "pygments_lexer": "ipython3",
   "version": "3.7.0"
  }
 },
 "nbformat": 4,
 "nbformat_minor": 2
}
